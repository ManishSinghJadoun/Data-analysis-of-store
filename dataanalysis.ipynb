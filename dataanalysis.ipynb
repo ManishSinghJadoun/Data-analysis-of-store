{
 "cells": [
  {
   "cell_type": "code",
   "execution_count": 1,
   "metadata": {},
   "outputs": [
    {
     "name": "stdout",
     "output_type": "stream",
     "text": [
      "SKU-wise Summary:\n",
      "     SKU ID  Total_Visits_SKU  Total_Transactions_SKU  Total_Revenue_SKU\n",
      "2   SKU_11             27856                   16323         1665863.73\n",
      "6   SKU_15             29758                   15045         1505667.46\n",
      "15   SKU_5             29472                   14846         1401568.10\n",
      "17   SKU_7             26103                   14654         1674024.12\n",
      "1   SKU_10             27641                   14333         1436928.71\n",
      "SKU-wise Revenue Summary:\n",
      "     SKU ID  Total_Visits_SKU  Total_Transactions_SKU  Total_Revenue_SKU\n",
      "17   SKU_7             26103                   14654         1674024.12\n",
      "2   SKU_11             27856                   16323         1665863.73\n",
      "13   SKU_3             27772                   14055         1606430.55\n",
      "6   SKU_15             29758                   15045         1505667.46\n",
      "11   SKU_2             27163                   13694         1498927.76\n",
      "\n",
      "Store-wise Summary:\n",
      "     Store ID  ALL_Visits_Store  ALL_Transactions_Store  ALL_Revenue_Store\n",
      "37  Store_43             12664                    7616          786369.76\n",
      "44   Store_5             11997                    7275          713837.60\n",
      "20  Store_28             12186                    7238         1057732.38\n",
      "43  Store_49             11032                    7129          793523.76\n",
      "24  Store_31             12942                    6826          748926.10\n",
      "\n",
      "Store-wise Revenue Summary:\n",
      "     Store ID  All_Visits_Store  ALL_Transactions_Store  ALL_Revenue_Store\n",
      "20  Store_28             12186                    7238         1057732.38\n",
      "26  Store_33             11430                    6595          806192.61\n",
      "1   Store_10             12173                    6311          802605.29\n",
      "46   Store_6             10668                    5665          797079.88\n",
      "43  Store_49             11032                    7129          793523.76\n"
     ]
    }
   ],
   "source": [
    "import pandas as pd\n",
    "\n",
    "# Load your CSV file (update the path as needed)\n",
    "df = pd.read_csv(r\"C:\\Users\\jadon\\Downloads\\store_sku_ba_dataset.csv\")\n",
    "\n",
    "# SKU-wise aggregation across all stores\n",
    "sku_summary = df.groupby(\"SKU ID\").agg(\n",
    "    Total_Visits_SKU=('Total Visits', 'sum'),\n",
    "    Total_Transactions_SKU=('Transactions', 'sum'),\n",
    "    Total_Revenue_SKU=('Revenue', 'sum')\n",
    ").reset_index().sort_values(by='Total_Transactions_SKU', ascending=False)\n",
    "\n",
    "sku_summary_revenue = df.groupby(\"SKU ID\").agg(\n",
    "    Total_Visits_SKU=('Total Visits', 'sum'),\n",
    "    Total_Transactions_SKU=('Transactions', 'sum'),\n",
    "    Total_Revenue_SKU=('Revenue', 'sum')\n",
    ").reset_index().sort_values(by='Total_Revenue_SKU', ascending=False)\n",
    "\n",
    "# Store-wise aggregation across all SKUs\n",
    "store_summary = df.groupby(\"Store ID\").agg(\n",
    "    ALL_Visits_Store=('Total Visits', 'sum'),\n",
    "    ALL_Transactions_Store=('Transactions', 'sum'),\n",
    "    ALL_Revenue_Store=('Revenue', 'sum')\n",
    ").reset_index().sort_values(by='ALL_Transactions_Store', ascending=False)\n",
    "\n",
    "store_summary_revenue = df.groupby(\"Store ID\").agg(\n",
    "    All_Visits_Store=('Total Visits', 'sum'),\n",
    "    ALL_Transactions_Store=('Transactions', 'sum'),\n",
    "    ALL_Revenue_Store=('Revenue', 'sum')\n",
    ").reset_index().sort_values(by='ALL_Revenue_Store', ascending=False)\n",
    "\n",
    "# Display results\n",
    "print(\"SKU-wise Summary:\\n\", sku_summary.head())\n",
    "print(\"SKU-wise Revenue Summary:\\n\", sku_summary_revenue.head())\n",
    "\n",
    "print(\"\\nStore-wise Summary:\\n\", store_summary.head())\n",
    "\n",
    "\n",
    "print(\"\\nStore-wise Revenue Summary:\\n\", store_summary_revenue.head())\n",
    "\n",
    "# Optionally save to CSV\n",
    "sku_summary.to_csv(\"sku_summary.csv\", index=False)\n",
    "store_summary.to_csv(\"store_summary.csv\", index=False)\n"
   ]
  },
  {
   "cell_type": "code",
   "execution_count": null,
   "metadata": {},
   "outputs": [],
   "source": []
  },
  {
   "cell_type": "code",
   "execution_count": 2,
   "metadata": {},
   "outputs": [
    {
     "name": "stdout",
     "output_type": "stream",
     "text": [
      "🔹 Top SKU by Conversion Rate:\n",
      "    SKU ID  Total_Visits  Total_Transactions  Total_Revenue  Conversion_Rate\n",
      "2  SKU_11         27856               16323     1665863.73         0.585978\n",
      "\n",
      "🔹 Top Store by Conversion Rate:\n",
      "     Store ID  Total_Visits  Total_Transactions  Total_Revenue  Conversion_Rate\n",
      "32  Store_39          9213                6124      667804.09         0.664713\n"
     ]
    }
   ],
   "source": [
    "import pandas as pd\n",
    "\n",
    "# Load your dataset (update file path as needed)\n",
    "df = pd.read_csv(r\"C:\\Users\\jadon\\Downloads\\store_sku_ba_dataset.csv\")\n",
    "\n",
    "# SKU-wise Aggregation with Conversion Rate\n",
    "sku_summary = df.groupby(\"SKU ID\").agg(\n",
    "    Total_Visits=('Total Visits', 'sum'),\n",
    "    Total_Transactions=('Transactions', 'sum'),\n",
    "    Total_Revenue=('Revenue', 'sum')\n",
    ").reset_index()\n",
    "\n",
    "sku_summary[\"Conversion_Rate\"] = sku_summary[\"Total_Transactions\"] / sku_summary[\"Total_Visits\"]\n",
    "top_sku = sku_summary.sort_values(by=\"Conversion_Rate\", ascending=False)\n",
    "\n",
    "# Store-wise Aggregation with Conversion Rate\n",
    "store_summary = df.groupby(\"Store ID\").agg(\n",
    "    Total_Visits=('Total Visits', 'sum'),\n",
    "    Total_Transactions=('Transactions', 'sum'),\n",
    "    Total_Revenue=('Revenue', 'sum')\n",
    ").reset_index()\n",
    "\n",
    "store_summary[\"Conversion_Rate\"] = store_summary[\"Total_Transactions\"] / store_summary[\"Total_Visits\"]\n",
    "top_store = store_summary.sort_values(by=\"Conversion_Rate\", ascending=False)\n",
    "\n",
    "# Show top results\n",
    "print(\"🔹 Top SKU by Conversion Rate:\\n\", top_sku.head(1))\n",
    "print(\"\\n🔹 Top Store by Conversion Rate:\\n\", top_store.head(1))\n",
    "\n",
    "# Optionally, save to CSV\n",
    "top_sku.to_csv(\"sku_conversion_summary.csv\", index=False)\n",
    "top_store.to_csv(\"store_conversion_summary.csv\", index=False)\n"
   ]
  },
  {
   "cell_type": "code",
   "execution_count": null,
   "metadata": {},
   "outputs": [],
   "source": []
  },
  {
   "cell_type": "code",
   "execution_count": null,
   "metadata": {},
   "outputs": [],
   "source": []
  }
 ],
 "metadata": {
  "kernelspec": {
   "display_name": "Python 3",
   "language": "python",
   "name": "python3"
  },
  "language_info": {
   "codemirror_mode": {
    "name": "ipython",
    "version": 3
   },
   "file_extension": ".py",
   "mimetype": "text/x-python",
   "name": "python",
   "nbconvert_exporter": "python",
   "pygments_lexer": "ipython3",
   "version": "3.8.10"
  }
 },
 "nbformat": 4,
 "nbformat_minor": 2
}
